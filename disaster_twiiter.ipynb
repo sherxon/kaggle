{
  "nbformat": 4,
  "nbformat_minor": 0,
  "metadata": {
    "colab": {
      "name": "disaster_twiiter.ipynb",
      "provenance": [],
      "collapsed_sections": [],
      "mount_file_id": "1urEjNFlEqBwx80ojjVXPpKtKxr3WmR7u",
      "authorship_tag": "ABX9TyNuqlK7WfuSaYKyHXlykKqS",
      "include_colab_link": true
    },
    "kernelspec": {
      "name": "python3",
      "display_name": "Python 3"
    }
  },
  "cells": [
    {
      "cell_type": "markdown",
      "metadata": {
        "id": "view-in-github",
        "colab_type": "text"
      },
      "source": [
        "<a href=\"https://colab.research.google.com/github/sherxon/kaggle/blob/main/disaster_twiiter.ipynb\" target=\"_parent\"><img src=\"https://colab.research.google.com/assets/colab-badge.svg\" alt=\"Open In Colab\"/></a>"
      ]
    },
    {
      "cell_type": "code",
      "metadata": {
        "id": "jtVH-xS1H4Ba"
      },
      "source": [
        "import pandas as pd\n",
        "import numpy as np\n",
        "from keras.models import Model\n",
        "from keras.layers import Dense, Input, Embedding, Activation, Flatten, LSTM, Dropout\n",
        "from sklearn import feature_extraction\n",
        "from keras.preprocessing.text import Tokenizer\n",
        "from keras.preprocessing.sequence import pad_sequences\n"
      ],
      "execution_count": null,
      "outputs": []
    },
    {
      "cell_type": "code",
      "metadata": {
        "id": "7M9TdcJfIVjs"
      },
      "source": [
        "train_df= pd.read_csv('/content/drive/My Drive/kaggle/disaster_twitter/train.csv')\n",
        "test_df = pd.read_csv('/content/drive/My Drive/kaggle/disaster_twitter/test.csv')"
      ],
      "execution_count": null,
      "outputs": []
    },
    {
      "cell_type": "code",
      "metadata": {
        "id": "P0eAxcDqId0m"
      },
      "source": [
        "#count_vectorizer = feature_extraction.text.CountVectorizer()"
      ],
      "execution_count": null,
      "outputs": []
    },
    {
      "cell_type": "code",
      "metadata": {
        "id": "kj37CP0QAbye"
      },
      "source": [
        "t= Tokenizer()"
      ],
      "execution_count": null,
      "outputs": []
    },
    {
      "cell_type": "code",
      "metadata": {
        "id": "guZIXcK4ApJy"
      },
      "source": [
        "t.fit_on_texts(list(train_df['text'])+ list(test_df['text']))"
      ],
      "execution_count": null,
      "outputs": []
    },
    {
      "cell_type": "code",
      "metadata": {
        "id": "rIGwEZxGAx4a"
      },
      "source": [
        "train_encoded = t.texts_to_sequences(train_df['text'])\n",
        "test_encoded = t.texts_to_sequences(test_df['text'])"
      ],
      "execution_count": null,
      "outputs": []
    },
    {
      "cell_type": "code",
      "metadata": {
        "id": "3aBmtfM_Vd-d",
        "outputId": "fb640ca2-57a7-431e-eed5-4aaad053be3b",
        "colab": {
          "base_uri": "https://localhost:8080/"
        }
      },
      "source": [
        "max_length=0;\n",
        "for tweet in train_encoded:\n",
        "  if(max_length < len(tweet)):\n",
        "    max_length=len(tweet)\n",
        "print('max_length', max_length)"
      ],
      "execution_count": null,
      "outputs": [
        {
          "output_type": "stream",
          "text": [
            "max_length 33\n"
          ],
          "name": "stdout"
        }
      ]
    },
    {
      "cell_type": "code",
      "metadata": {
        "id": "82AF51s8VImX",
        "outputId": "67a3f051-2c01-4d4b-be4f-3d1907b64504",
        "colab": {
          "base_uri": "https://localhost:8080/"
        }
      },
      "source": [
        "padded_tweets=pad_sequences(train_encoded, maxlen=max_length, padding='post', value=0.0)\n",
        "padded_test = pad_sequences(test_encoded, maxlen=max_length, padding='post', value=0.0)\n",
        "print('train_padded', padded_tweets.shape)\n",
        "print('test_padded', padded_test.shape)"
      ],
      "execution_count": null,
      "outputs": [
        {
          "output_type": "stream",
          "text": [
            "train_padded (7613, 33)\n",
            "test_padded (3263, 33)\n"
          ],
          "name": "stdout"
        }
      ]
    },
    {
      "cell_type": "code",
      "metadata": {
        "id": "3W6WUrfhXpQ7"
      },
      "source": [
        "valid_words = t.word_index.keys()"
      ],
      "execution_count": null,
      "outputs": []
    },
    {
      "cell_type": "code",
      "metadata": {
        "id": "dwgPSOSwYqMD",
        "outputId": "c48a8ac1-b18c-4956-a26d-97004dd8752d",
        "colab": {
          "base_uri": "https://localhost:8080/"
        }
      },
      "source": [
        "embeddings_index = dict()\n",
        "f = open('glove.6B.50d.txt')\n",
        "for line in f:\n",
        "  values = line.split()\n",
        "  word = values[0]\n",
        "  coefs = np.asarray(values[1:], dtype='float32')\n",
        "  if word in valid_words:\n",
        "    embeddings_index[word] = coefs\n",
        "f.close()\n",
        "print('Loaded %s word vectors.' % len(embeddings_index))"
      ],
      "execution_count": null,
      "outputs": [
        {
          "output_type": "stream",
          "text": [
            "Loaded 15001 word vectors.\n"
          ],
          "name": "stdout"
        }
      ]
    },
    {
      "cell_type": "code",
      "metadata": {
        "id": "JL3nqSqMZLiO"
      },
      "source": [
        "vocab_size = len(t.word_index)+1\n",
        "embedding_matrix = np.zeros((vocab_size, 50))\n",
        "for word, i in t.word_index.items():\n",
        "\tembedding_vector = embeddings_index.get(word)\n",
        "\tif embedding_vector is not None:\n",
        "\t\tembedding_matrix[i] = embedding_vector"
      ],
      "execution_count": null,
      "outputs": []
    },
    {
      "cell_type": "code",
      "metadata": {
        "id": "SB-7u4cbBdFi",
        "outputId": "ce7f73f5-4e44-48ea-ff75-71e13da99279",
        "colab": {
          "base_uri": "https://localhost:8080/"
        }
      },
      "source": [
        "embedding_matrix.shape"
      ],
      "execution_count": null,
      "outputs": [
        {
          "output_type": "execute_result",
          "data": {
            "text/plain": [
              "(31127, 50)"
            ]
          },
          "metadata": {
            "tags": []
          },
          "execution_count": 47
        }
      ]
    },
    {
      "cell_type": "code",
      "metadata": {
        "id": "f3NBQvvIJyf_"
      },
      "source": [
        "#train_vectors = count_vectorizer.fit_transform(train_df['text'])\n",
        "#test_vectors = count_vectorizer.transform(test_df['text'])\n",
        "#print(train_vectors.shape)\n",
        "#print(test_vectors.shape)"
      ],
      "execution_count": null,
      "outputs": []
    },
    {
      "cell_type": "code",
      "metadata": {
        "id": "Y1dTf5A6MKP8",
        "outputId": "ea1e1f9e-478b-4896-8d62-8cb4565bae0e",
        "colab": {
          "base_uri": "https://localhost:8080/"
        }
      },
      "source": [
        "Y=train_df['target'].to_numpy()\n",
        "print(Y.shape)"
      ],
      "execution_count": null,
      "outputs": [
        {
          "output_type": "stream",
          "text": [
            "(7613,)\n"
          ],
          "name": "stdout"
        }
      ]
    },
    {
      "cell_type": "code",
      "metadata": {
        "id": "mMEDCfaZCbMO",
        "outputId": "f9015ae6-524d-4246-aca2-852a4592d89c",
        "colab": {
          "base_uri": "https://localhost:8080/"
        }
      },
      "source": [
        "tweets_count=padded_tweets.shape[0]\n",
        "print('vocab_size', vocab_size)\n",
        "print('shape of train_input', padded_tweets.shape)\n",
        "print('input tweet count', tweets_count)"
      ],
      "execution_count": null,
      "outputs": [
        {
          "output_type": "stream",
          "text": [
            "vocab_size 31127\n",
            "shape of train_input (7613, 33)\n",
            "input tweet count 7613\n"
          ],
          "name": "stdout"
        }
      ]
    },
    {
      "cell_type": "code",
      "metadata": {
        "id": "xlsbjlU-Mm_5",
        "outputId": "0618c2f3-cc84-4ab6-b507-3c57922610bd",
        "colab": {
          "base_uri": "https://localhost:8080/"
        }
      },
      "source": [
        "input = Input(shape=(max_length,))\n",
        "embeddings=Embedding(vocab_size, 50, weights=[embedding_matrix], input_length=max_length, trainable=False)(input)\n",
        "X=LSTM(128, return_sequences=True)(embeddings)\n",
        "X=Dropout(0.3)(X)\n",
        "X=LSTM(128, return_sequences=False)(X)\n",
        "X=Dropout(0.3)(X)\n",
        "X=Dense(8, 'relu')(X)\n",
        "X=Dense(1, activation='sigmoid')(X)\n",
        "model = Model(input, X);\n",
        "model.summary()"
      ],
      "execution_count": null,
      "outputs": [
        {
          "output_type": "stream",
          "text": [
            "Model: \"functional_5\"\n",
            "_________________________________________________________________\n",
            "Layer (type)                 Output Shape              Param #   \n",
            "=================================================================\n",
            "input_3 (InputLayer)         [(None, 33)]              0         \n",
            "_________________________________________________________________\n",
            "embedding_2 (Embedding)      (None, 33, 50)            1556350   \n",
            "_________________________________________________________________\n",
            "lstm_4 (LSTM)                (None, 33, 128)           91648     \n",
            "_________________________________________________________________\n",
            "dropout_4 (Dropout)          (None, 33, 128)           0         \n",
            "_________________________________________________________________\n",
            "lstm_5 (LSTM)                (None, 128)               131584    \n",
            "_________________________________________________________________\n",
            "dropout_5 (Dropout)          (None, 128)               0         \n",
            "_________________________________________________________________\n",
            "dense_4 (Dense)              (None, 8)                 1032      \n",
            "_________________________________________________________________\n",
            "dense_5 (Dense)              (None, 1)                 9         \n",
            "=================================================================\n",
            "Total params: 1,780,623\n",
            "Trainable params: 224,273\n",
            "Non-trainable params: 1,556,350\n",
            "_________________________________________________________________\n"
          ],
          "name": "stdout"
        }
      ]
    },
    {
      "cell_type": "code",
      "metadata": {
        "id": "ZAHixDWvMngC"
      },
      "source": [
        "model.compile('Adam', loss='binary_crossentropy', metrics=['accuracy'])"
      ],
      "execution_count": null,
      "outputs": []
    },
    {
      "cell_type": "code",
      "metadata": {
        "id": "UgNeJUUtnG1B",
        "outputId": "bfc3b43e-6d37-43bf-cf6f-6acb1a317f36",
        "colab": {
          "base_uri": "https://localhost:8080/"
        }
      },
      "source": [
        "model.fit(padded_tweets, Y,  epochs = 20, batch_size = 64, shuffle = True)"
      ],
      "execution_count": null,
      "outputs": [
        {
          "output_type": "stream",
          "text": [
            "Epoch 1/20\n",
            "119/119 [==============================] - 16s 133ms/step - loss: 0.5062 - accuracy: 0.7645\n",
            "Epoch 2/20\n",
            "119/119 [==============================] - 16s 132ms/step - loss: 0.4565 - accuracy: 0.7973\n",
            "Epoch 3/20\n",
            "119/119 [==============================] - 20s 171ms/step - loss: 0.4313 - accuracy: 0.8087\n",
            "Epoch 4/20\n",
            "119/119 [==============================] - 16s 133ms/step - loss: 0.4237 - accuracy: 0.8102\n",
            "Epoch 5/20\n",
            "119/119 [==============================] - 16s 134ms/step - loss: 0.4123 - accuracy: 0.8200\n",
            "Epoch 6/20\n",
            "119/119 [==============================] - 16s 133ms/step - loss: 0.3993 - accuracy: 0.8285\n",
            "Epoch 7/20\n",
            "119/119 [==============================] - 16s 133ms/step - loss: 0.3973 - accuracy: 0.8296\n",
            "Epoch 8/20\n",
            "119/119 [==============================] - 16s 133ms/step - loss: 0.3813 - accuracy: 0.8337\n",
            "Epoch 9/20\n",
            "119/119 [==============================] - 16s 134ms/step - loss: 0.3848 - accuracy: 0.8349\n",
            "Epoch 10/20\n",
            "119/119 [==============================] - 16s 134ms/step - loss: 0.3627 - accuracy: 0.8441\n",
            "Epoch 11/20\n",
            "119/119 [==============================] - 16s 135ms/step - loss: 0.3525 - accuracy: 0.8513\n",
            "Epoch 12/20\n",
            "119/119 [==============================] - 16s 134ms/step - loss: 0.3437 - accuracy: 0.8567\n",
            "Epoch 13/20\n",
            "119/119 [==============================] - 16s 138ms/step - loss: 0.3340 - accuracy: 0.8646\n",
            "Epoch 14/20\n",
            "119/119 [==============================] - 16s 134ms/step - loss: 0.3247 - accuracy: 0.8619\n",
            "Epoch 15/20\n",
            "119/119 [==============================] - 16s 134ms/step - loss: 0.3153 - accuracy: 0.8702\n",
            "Epoch 16/20\n",
            "119/119 [==============================] - 16s 133ms/step - loss: 0.3077 - accuracy: 0.8751\n",
            "Epoch 17/20\n",
            "119/119 [==============================] - 16s 137ms/step - loss: 0.2910 - accuracy: 0.8831\n",
            "Epoch 18/20\n",
            "119/119 [==============================] - 16s 135ms/step - loss: 0.2767 - accuracy: 0.8882\n",
            "Epoch 19/20\n",
            "119/119 [==============================] - 16s 138ms/step - loss: 0.2770 - accuracy: 0.8927\n",
            "Epoch 20/20\n",
            "119/119 [==============================] - 16s 134ms/step - loss: 0.2593 - accuracy: 0.8983\n"
          ],
          "name": "stdout"
        },
        {
          "output_type": "execute_result",
          "data": {
            "text/plain": [
              "<tensorflow.python.keras.callbacks.History at 0x7f3c689d1630>"
            ]
          },
          "metadata": {
            "tags": []
          },
          "execution_count": 53
        }
      ]
    },
    {
      "cell_type": "code",
      "metadata": {
        "id": "o5DStfu3nLOe"
      },
      "source": [
        "prediction = model.predict(padded_test)"
      ],
      "execution_count": null,
      "outputs": []
    },
    {
      "cell_type": "code",
      "metadata": {
        "id": "CY2Wyujcqedv"
      },
      "source": [
        "sample_suggestion=pd.read_csv('/content/drive/My Drive/kaggle/disaster_twitter/sample_submission.csv')"
      ],
      "execution_count": null,
      "outputs": []
    },
    {
      "cell_type": "code",
      "metadata": {
        "id": "SgnU4ze8qf-F"
      },
      "source": [
        "prediction=np.rint(prediction).astype(int)"
      ],
      "execution_count": null,
      "outputs": []
    },
    {
      "cell_type": "code",
      "metadata": {
        "id": "hyQQpyI3rHHW",
        "outputId": "11a3f6b8-b03e-4da9-82d2-9daa5b28b609",
        "colab": {
          "base_uri": "https://localhost:8080/",
          "height": 204
        }
      },
      "source": [
        "sample_suggestion['target']=prediction\n",
        "sample_suggestion.head()"
      ],
      "execution_count": null,
      "outputs": [
        {
          "output_type": "execute_result",
          "data": {
            "text/html": [
              "<div>\n",
              "<style scoped>\n",
              "    .dataframe tbody tr th:only-of-type {\n",
              "        vertical-align: middle;\n",
              "    }\n",
              "\n",
              "    .dataframe tbody tr th {\n",
              "        vertical-align: top;\n",
              "    }\n",
              "\n",
              "    .dataframe thead th {\n",
              "        text-align: right;\n",
              "    }\n",
              "</style>\n",
              "<table border=\"1\" class=\"dataframe\">\n",
              "  <thead>\n",
              "    <tr style=\"text-align: right;\">\n",
              "      <th></th>\n",
              "      <th>id</th>\n",
              "      <th>target</th>\n",
              "    </tr>\n",
              "  </thead>\n",
              "  <tbody>\n",
              "    <tr>\n",
              "      <th>0</th>\n",
              "      <td>0</td>\n",
              "      <td>1</td>\n",
              "    </tr>\n",
              "    <tr>\n",
              "      <th>1</th>\n",
              "      <td>2</td>\n",
              "      <td>1</td>\n",
              "    </tr>\n",
              "    <tr>\n",
              "      <th>2</th>\n",
              "      <td>3</td>\n",
              "      <td>0</td>\n",
              "    </tr>\n",
              "    <tr>\n",
              "      <th>3</th>\n",
              "      <td>9</td>\n",
              "      <td>1</td>\n",
              "    </tr>\n",
              "    <tr>\n",
              "      <th>4</th>\n",
              "      <td>11</td>\n",
              "      <td>1</td>\n",
              "    </tr>\n",
              "  </tbody>\n",
              "</table>\n",
              "</div>"
            ],
            "text/plain": [
              "   id  target\n",
              "0   0       1\n",
              "1   2       1\n",
              "2   3       0\n",
              "3   9       1\n",
              "4  11       1"
            ]
          },
          "metadata": {
            "tags": []
          },
          "execution_count": 57
        }
      ]
    },
    {
      "cell_type": "code",
      "metadata": {
        "id": "rCMg2qMSrPBg"
      },
      "source": [
        "sample_suggestion.to_csv('/content/drive/My Drive/kaggle/disaster_twitter/prediction5.csv', index=False)"
      ],
      "execution_count": null,
      "outputs": []
    },
    {
      "cell_type": "code",
      "metadata": {
        "id": "fFURSA4Er__o"
      },
      "source": [
        ""
      ],
      "execution_count": null,
      "outputs": []
    }
  ]
}