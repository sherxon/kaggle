{
  "nbformat": 4,
  "nbformat_minor": 0,
  "metadata": {
    "colab": {
      "name": "disaster_twiiter.ipynb",
      "provenance": [],
      "collapsed_sections": [],
      "mount_file_id": "1urEjNFlEqBwx80ojjVXPpKtKxr3WmR7u",
      "authorship_tag": "ABX9TyOJ6nhbc/RQCPPN43w9Ez1d",
      "include_colab_link": true
    },
    "kernelspec": {
      "name": "python3",
      "display_name": "Python 3"
    }
  },
  "cells": [
    {
      "cell_type": "markdown",
      "metadata": {
        "id": "view-in-github",
        "colab_type": "text"
      },
      "source": [
        "<a href=\"https://colab.research.google.com/github/sherxon/kaggle/blob/main/disaster_twiiter.ipynb\" target=\"_parent\"><img src=\"https://colab.research.google.com/assets/colab-badge.svg\" alt=\"Open In Colab\"/></a>"
      ]
    },
    {
      "cell_type": "code",
      "metadata": {
        "id": "jtVH-xS1H4Ba"
      },
      "source": [
        "import pandas as pd\n",
        "import numpy as np\n",
        "from keras.models import Model\n",
        "from keras.layers import Dense, Input, Embedding, Activation, Flatten, LSTM, Dropout, Bidirectional\n",
        "import keras.callbacks as callbacks\n",
        "from sklearn import feature_extraction\n",
        "from keras.preprocessing.text import Tokenizer\n",
        "from keras.preprocessing.sequence import pad_sequences\n",
        "import keras.regularizers as regularizers\n",
        "import matplotlib.pyplot as plt\n",
        "%matplotlib inline"
      ],
      "execution_count": null,
      "outputs": []
    },
    {
      "cell_type": "code",
      "metadata": {
        "id": "7M9TdcJfIVjs"
      },
      "source": [
        "train_df= pd.read_csv('/content/drive/My Drive/kaggle/disaster_twitter/train.csv')\n",
        "test_df = pd.read_csv('/content/drive/My Drive/kaggle/disaster_twitter/test.csv')"
      ],
      "execution_count": null,
      "outputs": []
    },
    {
      "cell_type": "code",
      "metadata": {
        "id": "P0eAxcDqId0m"
      },
      "source": [
        "#count_vectorizer = feature_extraction.text.CountVectorizer()"
      ],
      "execution_count": null,
      "outputs": []
    },
    {
      "cell_type": "code",
      "metadata": {
        "id": "kj37CP0QAbye"
      },
      "source": [
        "t= Tokenizer()"
      ],
      "execution_count": null,
      "outputs": []
    },
    {
      "cell_type": "code",
      "metadata": {
        "id": "guZIXcK4ApJy"
      },
      "source": [
        "t.fit_on_texts(list(train_df['text'])+ list(test_df['text']))"
      ],
      "execution_count": null,
      "outputs": []
    },
    {
      "cell_type": "code",
      "metadata": {
        "id": "rIGwEZxGAx4a"
      },
      "source": [
        "train_encoded = t.texts_to_sequences(train_df['text'])\n",
        "test_encoded = t.texts_to_sequences(test_df['text'])"
      ],
      "execution_count": null,
      "outputs": []
    },
    {
      "cell_type": "code",
      "metadata": {
        "id": "3aBmtfM_Vd-d",
        "outputId": "775b916d-e68a-4628-c07c-b45460ac92d6",
        "colab": {
          "base_uri": "https://localhost:8080/"
        }
      },
      "source": [
        "max_length=0;\n",
        "for tweet in train_encoded:\n",
        "  if(max_length < len(tweet)):\n",
        "    max_length=len(tweet)\n",
        "print('max_length', max_length)"
      ],
      "execution_count": null,
      "outputs": [
        {
          "output_type": "stream",
          "text": [
            "max_length 33\n"
          ],
          "name": "stdout"
        }
      ]
    },
    {
      "cell_type": "code",
      "metadata": {
        "id": "82AF51s8VImX",
        "outputId": "d7b96d79-f2f9-4f31-c805-3ab95ed58d05",
        "colab": {
          "base_uri": "https://localhost:8080/"
        }
      },
      "source": [
        "padded_tweets=pad_sequences(train_encoded, maxlen=max_length, padding='post', value=0.0)\n",
        "padded_test = pad_sequences(test_encoded, maxlen=max_length, padding='post', value=0.0)\n",
        "print('train_padded', padded_tweets.shape)\n",
        "print('test_padded', padded_test.shape)"
      ],
      "execution_count": null,
      "outputs": [
        {
          "output_type": "stream",
          "text": [
            "train_padded (7613, 33)\n",
            "test_padded (3263, 33)\n"
          ],
          "name": "stdout"
        }
      ]
    },
    {
      "cell_type": "code",
      "metadata": {
        "id": "3W6WUrfhXpQ7"
      },
      "source": [
        "valid_words = t.word_index.keys()"
      ],
      "execution_count": null,
      "outputs": []
    },
    {
      "cell_type": "code",
      "metadata": {
        "id": "dwgPSOSwYqMD",
        "outputId": "146bd2f7-dc84-4f0a-dc63-278f19eec421",
        "colab": {
          "base_uri": "https://localhost:8080/"
        }
      },
      "source": [
        "embeddings_index = dict()\n",
        "f = open('glove.6B.50d.txt')\n",
        "for line in f:\n",
        "  values = line.split()\n",
        "  word = values[0]\n",
        "  coefs = np.asarray(values[1:], dtype='float32')\n",
        "  if word in valid_words:\n",
        "    embeddings_index[word] = coefs\n",
        "f.close()\n",
        "print('Loaded %s word vectors.' % len(embeddings_index))"
      ],
      "execution_count": null,
      "outputs": [
        {
          "output_type": "stream",
          "text": [
            "Loaded 14994 word vectors.\n"
          ],
          "name": "stdout"
        }
      ]
    },
    {
      "cell_type": "code",
      "metadata": {
        "id": "JL3nqSqMZLiO"
      },
      "source": [
        "vocab_size = len(t.word_index)+1\n",
        "embedding_matrix = np.zeros((vocab_size, 50))\n",
        "for word, i in t.word_index.items():\n",
        "\tembedding_vector = embeddings_index.get(word)\n",
        "\tif embedding_vector is not None:\n",
        "\t\tembedding_matrix[i] = embedding_vector"
      ],
      "execution_count": null,
      "outputs": []
    },
    {
      "cell_type": "code",
      "metadata": {
        "id": "SB-7u4cbBdFi",
        "outputId": "d5b3755f-f760-42d8-d246-e63c8a8db379",
        "colab": {
          "base_uri": "https://localhost:8080/"
        }
      },
      "source": [
        "embedding_matrix.shape"
      ],
      "execution_count": null,
      "outputs": [
        {
          "output_type": "execute_result",
          "data": {
            "text/plain": [
              "(29320, 50)"
            ]
          },
          "metadata": {
            "tags": []
          },
          "execution_count": 20
        }
      ]
    },
    {
      "cell_type": "code",
      "metadata": {
        "id": "f3NBQvvIJyf_"
      },
      "source": [
        "#train_vectors = count_vectorizer.fit_transform(train_df['text'])\n",
        "#test_vectors = count_vectorizer.transform(test_df['text'])\n",
        "#print(train_vectors.shape)\n",
        "#print(test_vectors.shape)"
      ],
      "execution_count": null,
      "outputs": []
    },
    {
      "cell_type": "code",
      "metadata": {
        "id": "Y1dTf5A6MKP8",
        "outputId": "11b48bc8-5cbc-4b93-8789-6119ce7127ff",
        "colab": {
          "base_uri": "https://localhost:8080/"
        }
      },
      "source": [
        "Y=train_df['target'].to_numpy()\n",
        "print(Y.shape)"
      ],
      "execution_count": null,
      "outputs": [
        {
          "output_type": "stream",
          "text": [
            "(7613,)\n"
          ],
          "name": "stdout"
        }
      ]
    },
    {
      "cell_type": "code",
      "metadata": {
        "id": "mMEDCfaZCbMO",
        "outputId": "574360b1-48fb-45b5-a767-bd9eb33e2c5d",
        "colab": {
          "base_uri": "https://localhost:8080/"
        }
      },
      "source": [
        "tweets_count=padded_tweets.shape[0]\n",
        "print('vocab_size', vocab_size)\n",
        "print('shape of train_input', padded_tweets.shape)\n",
        "print('input tweet count', tweets_count)"
      ],
      "execution_count": null,
      "outputs": [
        {
          "output_type": "stream",
          "text": [
            "vocab_size 29320\n",
            "shape of train_input (7613, 33)\n",
            "input tweet count 7613\n"
          ],
          "name": "stdout"
        }
      ]
    },
    {
      "cell_type": "code",
      "metadata": {
        "id": "xlsbjlU-Mm_5",
        "outputId": "4d308449-1bb2-40a2-f683-46ebb62cb0d0",
        "colab": {
          "base_uri": "https://localhost:8080/"
        }
      },
      "source": [
        "weight_decay=0.001\n",
        "\n",
        "input = Input(shape=(max_length,))\n",
        "embeddings=Embedding(vocab_size, 50, weights=[embedding_matrix], input_length=max_length, trainable=False)(input)\n",
        "X=Bidirectional(LSTM(128, return_sequences=True))(embeddings)\n",
        "X=Dropout(0.4)(X)\n",
        "X=Bidirectional(LSTM(128, return_sequences=False))(X)\n",
        "X=Dropout(0.4)(X)\n",
        "X=Dense(64, 'relu', kernel_regularizer=regularizers.l2(weight_decay))(X)\n",
        "X=Dense(8, 'relu',  kernel_regularizer=regularizers.l2(weight_decay))(X)\n",
        "X=Dense(1, activation='sigmoid')(X)\n",
        "model = Model(input, X);\n",
        "model.summary()"
      ],
      "execution_count": null,
      "outputs": [
        {
          "output_type": "stream",
          "text": [
            "Model: \"functional_11\"\n",
            "_________________________________________________________________\n",
            "Layer (type)                 Output Shape              Param #   \n",
            "=================================================================\n",
            "input_6 (InputLayer)         [(None, 33)]              0         \n",
            "_________________________________________________________________\n",
            "embedding_5 (Embedding)      (None, 33, 50)            1466000   \n",
            "_________________________________________________________________\n",
            "bidirectional_4 (Bidirection (None, 33, 256)           183296    \n",
            "_________________________________________________________________\n",
            "dropout_10 (Dropout)         (None, 33, 256)           0         \n",
            "_________________________________________________________________\n",
            "bidirectional_5 (Bidirection (None, 256)               394240    \n",
            "_________________________________________________________________\n",
            "dropout_11 (Dropout)         (None, 256)               0         \n",
            "_________________________________________________________________\n",
            "dense_15 (Dense)             (None, 64)                16448     \n",
            "_________________________________________________________________\n",
            "dense_16 (Dense)             (None, 8)                 520       \n",
            "_________________________________________________________________\n",
            "dense_17 (Dense)             (None, 1)                 9         \n",
            "=================================================================\n",
            "Total params: 2,060,513\n",
            "Trainable params: 594,513\n",
            "Non-trainable params: 1,466,000\n",
            "_________________________________________________________________\n"
          ],
          "name": "stdout"
        }
      ]
    },
    {
      "cell_type": "code",
      "metadata": {
        "id": "ZAHixDWvMngC"
      },
      "source": [
        "model.compile('Adam', loss='binary_crossentropy', metrics=['accuracy'])"
      ],
      "execution_count": null,
      "outputs": []
    },
    {
      "cell_type": "code",
      "metadata": {
        "id": "rCElDSgB4E5t"
      },
      "source": [
        "def get_callbacks():\n",
        "    \"\"\"\n",
        "    This function should create and return a tuple (early_stopping, learning_rate_reduction) callbacks.\n",
        "    The callbacks should be instantiated according to the above requirements.\n",
        "    \"\"\"\n",
        "    stop=callbacks.EarlyStopping(monitor='val_loss', patience=5, mode='min')\n",
        "    lr=callbacks.ReduceLROnPlateau(factor=0.2, patience=5)\n",
        "    return stop, lr\n",
        "\n",
        "early_stopping, learning_rate_reduction = get_callbacks()\n"
      ],
      "execution_count": null,
      "outputs": []
    },
    {
      "cell_type": "code",
      "metadata": {
        "id": "UgNeJUUtnG1B",
        "outputId": "9ac662df-e9fa-44f1-f5c8-b390becccf46",
        "colab": {
          "base_uri": "https://localhost:8080/"
        }
      },
      "source": [
        "history = model.fit(padded_tweets, Y,  epochs = 20, batch_size = 64, validation_split=0.15,  callbacks=[early_stopping, learning_rate_reduction])"
      ],
      "execution_count": null,
      "outputs": [
        {
          "output_type": "stream",
          "text": [
            "Epoch 1/20\n",
            "102/102 [==============================] - 34s 334ms/step - loss: 0.5831 - accuracy: 0.7680 - val_loss: 0.5454 - val_accuracy: 0.7680\n",
            "Epoch 2/20\n",
            "102/102 [==============================] - 33s 319ms/step - loss: 0.5016 - accuracy: 0.8048 - val_loss: 0.5112 - val_accuracy: 0.7907\n",
            "Epoch 3/20\n",
            "102/102 [==============================] - 34s 332ms/step - loss: 0.4680 - accuracy: 0.8105 - val_loss: 0.4867 - val_accuracy: 0.7855\n",
            "Epoch 4/20\n",
            "102/102 [==============================] - 32s 318ms/step - loss: 0.4479 - accuracy: 0.8166 - val_loss: 0.4787 - val_accuracy: 0.7855\n",
            "Epoch 5/20\n",
            "102/102 [==============================] - 34s 330ms/step - loss: 0.4287 - accuracy: 0.8231 - val_loss: 0.4782 - val_accuracy: 0.7846\n",
            "Epoch 6/20\n",
            "102/102 [==============================] - 35s 339ms/step - loss: 0.4139 - accuracy: 0.8312 - val_loss: 0.4735 - val_accuracy: 0.7741\n",
            "Epoch 7/20\n",
            "102/102 [==============================] - 33s 326ms/step - loss: 0.3993 - accuracy: 0.8402 - val_loss: 0.4881 - val_accuracy: 0.7811\n",
            "Epoch 8/20\n",
            "102/102 [==============================] - 34s 336ms/step - loss: 0.3831 - accuracy: 0.8407 - val_loss: 0.4879 - val_accuracy: 0.7828\n",
            "Epoch 9/20\n",
            "102/102 [==============================] - 34s 332ms/step - loss: 0.3615 - accuracy: 0.8526 - val_loss: 0.4934 - val_accuracy: 0.7776\n",
            "Epoch 10/20\n",
            "102/102 [==============================] - 34s 338ms/step - loss: 0.3585 - accuracy: 0.8527 - val_loss: 0.4895 - val_accuracy: 0.7741\n",
            "Epoch 11/20\n",
            "102/102 [==============================] - 34s 336ms/step - loss: 0.3365 - accuracy: 0.8640 - val_loss: 0.5491 - val_accuracy: 0.7671\n"
          ],
          "name": "stdout"
        }
      ]
    },
    {
      "cell_type": "code",
      "metadata": {
        "id": "HE2DZ8nM0ztW",
        "outputId": "aac0963d-fb00-44bc-e810-e0abac049ba1",
        "colab": {
          "base_uri": "https://localhost:8080/",
          "height": 295
        }
      },
      "source": [
        "try:\n",
        "    plt.plot(history.history['accuracy'])\n",
        "    plt.plot(history.history['val_accuracy'])\n",
        "except KeyError:\n",
        "    plt.plot(history.history['acc'])\n",
        "    plt.plot(history.history['val_acc'])\n",
        "plt.title('Accuracy vs. epochs')\n",
        "plt.ylabel('Loss')\n",
        "plt.xlabel('Epoch')\n",
        "plt.legend(['Training', 'Validation'], loc='lower right')\n",
        "plt.show() "
      ],
      "execution_count": null,
      "outputs": [
        {
          "output_type": "display_data",
          "data": {
            "image/png": "[encoded data removed]",
            "text/plain": [
              "<Figure size 432x288 with 1 Axes>"
            ]
          },
          "metadata": {
            "tags": [],
            "needs_background": "light"
          }
        }
      ]
    },
    {
      "cell_type": "code",
      "metadata": {
        "id": "B8E0rTYF1QOe",
        "outputId": "d7b6fe53-3e65-4b57-be73-905069d9aa04",
        "colab": {
          "base_uri": "https://localhost:8080/",
          "height": 295
        }
      },
      "source": [
        "#Run this cell to plot the epoch vs loss graph\n",
        "plt.plot(history.history['loss'])\n",
        "plt.plot(history.history['val_loss'])\n",
        "plt.title('Loss vs. epochs')\n",
        "plt.ylabel('Loss')\n",
        "plt.xlabel('Epoch')\n",
        "plt.legend(['Training', 'Validation'], loc='upper right')\n",
        "plt.show() "
      ],
      "execution_count": null,
      "outputs": [
        {
          "output_type": "display_data",
          "data": {
            "image/png": "[encoded data removed]",
            "text/plain": [
              "<Figure size 432x288 with 1 Axes>"
            ]
          },
          "metadata": {
            "tags": [],
            "needs_background": "light"
          }
        }
      ]
    },
    {
      "cell_type": "code",
      "metadata": {
        "id": "o5DStfu3nLOe"
      },
      "source": [
        "prediction = model.predict(padded_test)"
      ],
      "execution_count": null,
      "outputs": []
    },
    {
      "cell_type": "code",
      "metadata": {
        "id": "CY2Wyujcqedv"
      },
      "source": [
        "sample_suggestion=pd.read_csv('/content/drive/My Drive/kaggle/disaster_twitter/sample_submission.csv')"
      ],
      "execution_count": null,
      "outputs": []
    },
    {
      "cell_type": "code",
      "metadata": {
        "id": "SgnU4ze8qf-F"
      },
      "source": [
        "prediction=np.rint(prediction).astype(int)"
      ],
      "execution_count": null,
      "outputs": []
    },
    {
      "cell_type": "code",
      "metadata": {
        "id": "hyQQpyI3rHHW",
        "outputId": "11a3f6b8-b03e-4da9-82d2-9daa5b28b609",
        "colab": {
          "base_uri": "https://localhost:8080/",
          "height": 204
        }
      },
      "source": [
        "sample_suggestion['target']=prediction\n",
        "sample_suggestion.head()"
      ],
      "execution_count": null,
      "outputs": [
        {
          "output_type": "execute_result",
          "data": {
            "text/html": [
              "<div>\n",
              "<style scoped>\n",
              "    .dataframe tbody tr th:only-of-type {\n",
              "        vertical-align: middle;\n",
              "    }\n",
              "\n",
              "    .dataframe tbody tr th {\n",
              "        vertical-align: top;\n",
              "    }\n",
              "\n",
              "    .dataframe thead th {\n",
              "        text-align: right;\n",
              "    }\n",
              "</style>\n",
              "<table border=\"1\" class=\"dataframe\">\n",
              "  <thead>\n",
              "    <tr style=\"text-align: right;\">\n",
              "      <th></th>\n",
              "      <th>id</th>\n",
              "      <th>target</th>\n",
              "    </tr>\n",
              "  </thead>\n",
              "  <tbody>\n",
              "    <tr>\n",
              "      <th>0</th>\n",
              "      <td>0</td>\n",
              "      <td>1</td>\n",
              "    </tr>\n",
              "    <tr>\n",
              "      <th>1</th>\n",
              "      <td>2</td>\n",
              "      <td>1</td>\n",
              "    </tr>\n",
              "    <tr>\n",
              "      <th>2</th>\n",
              "      <td>3</td>\n",
              "      <td>0</td>\n",
              "    </tr>\n",
              "    <tr>\n",
              "      <th>3</th>\n",
              "      <td>9</td>\n",
              "      <td>1</td>\n",
              "    </tr>\n",
              "    <tr>\n",
              "      <th>4</th>\n",
              "      <td>11</td>\n",
              "      <td>1</td>\n",
              "    </tr>\n",
              "  </tbody>\n",
              "</table>\n",
              "</div>"
            ],
            "text/plain": [
              "   id  target\n",
              "0   0       1\n",
              "1   2       1\n",
              "2   3       0\n",
              "3   9       1\n",
              "4  11       1"
            ]
          },
          "metadata": {
            "tags": []
          },
          "execution_count": 57
        }
      ]
    },
    {
      "cell_type": "code",
      "metadata": {
        "id": "rCMg2qMSrPBg"
      },
      "source": [
        "sample_suggestion.to_csv('/content/drive/My Drive/kaggle/disaster_twitter/prediction5.csv', index=False)"
      ],
      "execution_count": null,
      "outputs": []
    },
    {
      "cell_type": "code",
      "metadata": {
        "id": "fFURSA4Er__o"
      },
      "source": [
        ""
      ],
      "execution_count": null,
      "outputs": []
    }
  ]
}