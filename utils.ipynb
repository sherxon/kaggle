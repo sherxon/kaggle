{
  "nbformat": 4,
  "nbformat_minor": 0,
  "metadata": {
    "colab": {
      "name": "utils",
      "provenance": [],
      "collapsed_sections": [],
      "authorship_tag": "ABX9TyOklzynTfGoCDjiKBVKWfBM",
      "include_colab_link": true
    },
    "kernelspec": {
      "name": "python3",
      "display_name": "Python 3"
    }
  },
  "cells": [
    {
      "cell_type": "markdown",
      "metadata": {
        "id": "view-in-github",
        "colab_type": "text"
      },
      "source": [
        "<a href=\"https://colab.research.google.com/github/sherxon/kaggle/blob/main/utils.ipynb\" target=\"_parent\"><img src=\"https://colab.research.google.com/assets/colab-badge.svg\" alt=\"Open In Colab\"/></a>"
      ]
    },
    {
      "cell_type": "code",
      "metadata": {
        "id": "Bj0B17Hjx3Rq"
      },
      "source": [
        "history=model.fit(train_images[..., np.newaxis],\n",
        "                  train_labels, epochs=2, batch_size=256)\n",
        "#train_images[..., np.newaxis] -> adds new dimension\n",
        "#df= pd.DataFrame(history.history) returns history of model run, contains accuracy and loss and other metrics \n",
        "#df.head()\n",
        "#loss_plot= df.plot(y='loss', title='Loss vs Epoch', legend=False) used to draw loss diagram over epochs\n",
        "#loss_plot.set(xlabel='Epoch', ylabel='Loss')\n"
      ],
      "execution_count": null,
      "outputs": []
    },
    {
      "cell_type": "code",
      "metadata": {
        "id": "OE_Shcq4yceR"
      },
      "source": [
        "i=0\n",
        "img  = train_images[i,:,:]\n",
        "plt.imshow(img)\n",
        "plt.show()"
      ],
      "execution_count": null,
      "outputs": []
    }
  ]
}